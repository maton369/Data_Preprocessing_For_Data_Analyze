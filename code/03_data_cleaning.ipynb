{
 "cells": [
  {
   "cell_type": "code",
   "execution_count": 2,
   "id": "3aed2004",
   "metadata": {},
   "outputs": [
    {
     "data": {
      "text/plain": [
       "10000"
      ]
     },
     "execution_count": 2,
     "metadata": {},
     "output_type": "execute_result"
    }
   ],
   "source": [
    "# 必要なライブラリのインポート\n",
    "import pandas as pd\n",
    "\n",
    "# データセットの読み込み (dfにcsvデータを読み込む）\n",
    "df = pd.read_csv(\"../data/master_customer.csv\")\n",
    "# 読み込んだデータの確認　（dfの中を確認）\n",
    "df\n",
    "# 行数の確認\n",
    "len(df)"
   ]
  },
  {
   "cell_type": "code",
   "execution_count": 3,
   "id": "6a4f3039",
   "metadata": {},
   "outputs": [
    {
     "data": {
      "text/plain": [
       "458167"
      ]
     },
     "execution_count": 3,
     "metadata": {},
     "output_type": "execute_result"
    }
   ],
   "source": [
    "# データセットの読み込み\n",
    "df2 = pd.read_csv(\"../data/transaction_history.csv\")\n",
    "# 読み込んだデータの確認（df2の中を確認）\n",
    "df2\n",
    "# 行数の確認\n",
    "len(df2)"
   ]
  },
  {
   "cell_type": "code",
   "execution_count": null,
   "id": "48491745",
   "metadata": {},
   "outputs": [],
   "source": []
  }
 ],
 "metadata": {
  "kernelspec": {
   "display_name": "3.10.13",
   "language": "python",
   "name": "python3"
  },
  "language_info": {
   "codemirror_mode": {
    "name": "ipython",
    "version": 3
   },
   "file_extension": ".py",
   "mimetype": "text/x-python",
   "name": "python",
   "nbconvert_exporter": "python",
   "pygments_lexer": "ipython3",
   "version": "3.10.13"
  }
 },
 "nbformat": 4,
 "nbformat_minor": 5
}
