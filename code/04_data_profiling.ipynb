{
 "cells": [
  {
   "cell_type": "code",
   "execution_count": 1,
   "id": "2506cfb3",
   "metadata": {},
   "outputs": [],
   "source": [
    "# pandasパッケージを、以降はpdという名前で呼び出しますという宣言です.\n",
    "import pandas as pd"
   ]
  },
  {
   "cell_type": "code",
   "execution_count": 2,
   "id": "26a445ad",
   "metadata": {},
   "outputs": [],
   "source": [
    "# データセットの読み込み(dfにcsvデータを読み込む)\n",
    "# ここでは、本番用に用意した利用実績のデータを読み込みます\n",
    "df = pd.read_csv(\"../data/transaction_history.csv\")"
   ]
  },
  {
   "cell_type": "code",
   "execution_count": 3,
   "id": "829bde45",
   "metadata": {},
   "outputs": [
    {
     "data": {
      "text/html": [
       "<div>\n",
       "<style scoped>\n",
       "    .dataframe tbody tr th:only-of-type {\n",
       "        vertical-align: middle;\n",
       "    }\n",
       "\n",
       "    .dataframe tbody tr th {\n",
       "        vertical-align: top;\n",
       "    }\n",
       "\n",
       "    .dataframe thead th {\n",
       "        text-align: right;\n",
       "    }\n",
       "</style>\n",
       "<table border=\"1\" class=\"dataframe\">\n",
       "  <thead>\n",
       "    <tr style=\"text-align: right;\">\n",
       "      <th></th>\n",
       "      <th>customer_id</th>\n",
       "      <th>product_id</th>\n",
       "      <th>purchase_date</th>\n",
       "      <th>purchase_amount</th>\n",
       "      <th>redeem_coupon</th>\n",
       "      <th>final_settlement_amount</th>\n",
       "      <th>payment_method</th>\n",
       "      <th>purchase_channel</th>\n",
       "    </tr>\n",
       "  </thead>\n",
       "  <tbody>\n",
       "    <tr>\n",
       "      <th>0</th>\n",
       "      <td>23085</td>\n",
       "      <td>G03257PD</td>\n",
       "      <td>2020/3/13</td>\n",
       "      <td>7200</td>\n",
       "      <td>True</td>\n",
       "      <td>6200.0</td>\n",
       "      <td>現金</td>\n",
       "      <td>2.0</td>\n",
       "    </tr>\n",
       "    <tr>\n",
       "      <th>1</th>\n",
       "      <td>15469</td>\n",
       "      <td>CKZF21ZC</td>\n",
       "      <td>2023/3/29</td>\n",
       "      <td>15400</td>\n",
       "      <td>False</td>\n",
       "      <td>NaN</td>\n",
       "      <td>カード</td>\n",
       "      <td>2.0</td>\n",
       "    </tr>\n",
       "    <tr>\n",
       "      <th>2</th>\n",
       "      <td>15482</td>\n",
       "      <td>7NSE0G0R</td>\n",
       "      <td>2023/12/26</td>\n",
       "      <td>15400</td>\n",
       "      <td>False</td>\n",
       "      <td>NaN</td>\n",
       "      <td>現金</td>\n",
       "      <td>1.0</td>\n",
       "    </tr>\n",
       "    <tr>\n",
       "      <th>3</th>\n",
       "      <td>17107</td>\n",
       "      <td>WVCPYZBH</td>\n",
       "      <td>2021/2/19</td>\n",
       "      <td>17100</td>\n",
       "      <td>False</td>\n",
       "      <td>NaN</td>\n",
       "      <td>カード</td>\n",
       "      <td>2.0</td>\n",
       "    </tr>\n",
       "    <tr>\n",
       "      <th>4</th>\n",
       "      <td>24156</td>\n",
       "      <td>OELTJ7E2</td>\n",
       "      <td>2020/10/8</td>\n",
       "      <td>24100</td>\n",
       "      <td>True</td>\n",
       "      <td>23100.0</td>\n",
       "      <td>カード</td>\n",
       "      <td>1.0</td>\n",
       "    </tr>\n",
       "    <tr>\n",
       "      <th>...</th>\n",
       "      <td>...</td>\n",
       "      <td>...</td>\n",
       "      <td>...</td>\n",
       "      <td>...</td>\n",
       "      <td>...</td>\n",
       "      <td>...</td>\n",
       "      <td>...</td>\n",
       "      <td>...</td>\n",
       "    </tr>\n",
       "    <tr>\n",
       "      <th>458162</th>\n",
       "      <td>24236</td>\n",
       "      <td>YF829ECH</td>\n",
       "      <td>44820</td>\n",
       "      <td>188800</td>\n",
       "      <td>False</td>\n",
       "      <td>NaN</td>\n",
       "      <td>カード</td>\n",
       "      <td>1.0</td>\n",
       "    </tr>\n",
       "    <tr>\n",
       "      <th>458163</th>\n",
       "      <td>12691</td>\n",
       "      <td>SPDDDXY2</td>\n",
       "      <td>43903</td>\n",
       "      <td>177200</td>\n",
       "      <td>False</td>\n",
       "      <td>NaN</td>\n",
       "      <td>カード</td>\n",
       "      <td>2.0</td>\n",
       "    </tr>\n",
       "    <tr>\n",
       "      <th>458164</th>\n",
       "      <td>24355</td>\n",
       "      <td>UA56Q0XP</td>\n",
       "      <td>44572</td>\n",
       "      <td>141700</td>\n",
       "      <td>False</td>\n",
       "      <td>NaN</td>\n",
       "      <td>現金</td>\n",
       "      <td>2.0</td>\n",
       "    </tr>\n",
       "    <tr>\n",
       "      <th>458165</th>\n",
       "      <td>24126</td>\n",
       "      <td>G4WT97YC</td>\n",
       "      <td>43545</td>\n",
       "      <td>224400</td>\n",
       "      <td>False</td>\n",
       "      <td>NaN</td>\n",
       "      <td>現金</td>\n",
       "      <td>1.0</td>\n",
       "    </tr>\n",
       "    <tr>\n",
       "      <th>458166</th>\n",
       "      <td>12370</td>\n",
       "      <td>1QDAGFIK</td>\n",
       "      <td>45434</td>\n",
       "      <td>217300</td>\n",
       "      <td>False</td>\n",
       "      <td>NaN</td>\n",
       "      <td>電子マネー</td>\n",
       "      <td>1.0</td>\n",
       "    </tr>\n",
       "  </tbody>\n",
       "</table>\n",
       "<p>458167 rows × 8 columns</p>\n",
       "</div>"
      ],
      "text/plain": [
       "        customer_id product_id purchase_date  purchase_amount  redeem_coupon  \\\n",
       "0             23085   G03257PD     2020/3/13             7200           True   \n",
       "1             15469   CKZF21ZC     2023/3/29            15400          False   \n",
       "2             15482   7NSE0G0R    2023/12/26            15400          False   \n",
       "3             17107   WVCPYZBH     2021/2/19            17100          False   \n",
       "4             24156   OELTJ7E2     2020/10/8            24100           True   \n",
       "...             ...        ...           ...              ...            ...   \n",
       "458162        24236   YF829ECH         44820           188800          False   \n",
       "458163        12691   SPDDDXY2         43903           177200          False   \n",
       "458164        24355   UA56Q0XP         44572           141700          False   \n",
       "458165        24126   G4WT97YC         43545           224400          False   \n",
       "458166        12370   1QDAGFIK         45434           217300          False   \n",
       "\n",
       "        final_settlement_amount payment_method  purchase_channel  \n",
       "0                        6200.0             現金               2.0  \n",
       "1                           NaN            カード               2.0  \n",
       "2                           NaN             現金               1.0  \n",
       "3                           NaN            カード               2.0  \n",
       "4                       23100.0            カード               1.0  \n",
       "...                         ...            ...               ...  \n",
       "458162                      NaN            カード               1.0  \n",
       "458163                      NaN            カード               2.0  \n",
       "458164                      NaN             現金               2.0  \n",
       "458165                      NaN             現金               1.0  \n",
       "458166                      NaN          電子マネー               1.0  \n",
       "\n",
       "[458167 rows x 8 columns]"
      ]
     },
     "execution_count": 3,
     "metadata": {},
     "output_type": "execute_result"
    }
   ],
   "source": [
    "df"
   ]
  },
  {
   "cell_type": "code",
   "execution_count": 4,
   "id": "e90a005b",
   "metadata": {},
   "outputs": [
    {
     "data": {
      "text/html": [
       "<div>\n",
       "<style scoped>\n",
       "    .dataframe tbody tr th:only-of-type {\n",
       "        vertical-align: middle;\n",
       "    }\n",
       "\n",
       "    .dataframe tbody tr th {\n",
       "        vertical-align: top;\n",
       "    }\n",
       "\n",
       "    .dataframe thead th {\n",
       "        text-align: right;\n",
       "    }\n",
       "</style>\n",
       "<table border=\"1\" class=\"dataframe\">\n",
       "  <thead>\n",
       "    <tr style=\"text-align: right;\">\n",
       "      <th></th>\n",
       "      <th>customer_id</th>\n",
       "      <th>purchase_amount</th>\n",
       "      <th>final_settlement_amount</th>\n",
       "      <th>purchase_channel</th>\n",
       "    </tr>\n",
       "  </thead>\n",
       "  <tbody>\n",
       "    <tr>\n",
       "      <th>count</th>\n",
       "      <td>458167.000000</td>\n",
       "      <td>458167.000000</td>\n",
       "      <td>16872.000000</td>\n",
       "      <td>458166.000000</td>\n",
       "    </tr>\n",
       "    <tr>\n",
       "      <th>mean</th>\n",
       "      <td>191266.920025</td>\n",
       "      <td>84456.761617</td>\n",
       "      <td>79702.982693</td>\n",
       "      <td>1.715837</td>\n",
       "    </tr>\n",
       "    <tr>\n",
       "      <th>std</th>\n",
       "      <td>83365.046865</td>\n",
       "      <td>96068.130787</td>\n",
       "      <td>90292.655099</td>\n",
       "      <td>0.917242</td>\n",
       "    </tr>\n",
       "    <tr>\n",
       "      <th>min</th>\n",
       "      <td>10000.000000</td>\n",
       "      <td>5000.000000</td>\n",
       "      <td>5035.000000</td>\n",
       "      <td>1.000000</td>\n",
       "    </tr>\n",
       "    <tr>\n",
       "      <th>25%</th>\n",
       "      <td>124531.500000</td>\n",
       "      <td>9300.000000</td>\n",
       "      <td>8835.000000</td>\n",
       "      <td>1.000000</td>\n",
       "    </tr>\n",
       "    <tr>\n",
       "      <th>50%</th>\n",
       "      <td>216051.000000</td>\n",
       "      <td>63000.000000</td>\n",
       "      <td>59565.000000</td>\n",
       "      <td>2.000000</td>\n",
       "    </tr>\n",
       "    <tr>\n",
       "      <th>75%</th>\n",
       "      <td>265586.000000</td>\n",
       "      <td>108600.000000</td>\n",
       "      <td>103402.000000</td>\n",
       "      <td>2.000000</td>\n",
       "    </tr>\n",
       "    <tr>\n",
       "      <th>max</th>\n",
       "      <td>287234.000000</td>\n",
       "      <td>981600.000000</td>\n",
       "      <td>843315.000000</td>\n",
       "      <td>6.000000</td>\n",
       "    </tr>\n",
       "  </tbody>\n",
       "</table>\n",
       "</div>"
      ],
      "text/plain": [
       "         customer_id  purchase_amount  final_settlement_amount  \\\n",
       "count  458167.000000    458167.000000             16872.000000   \n",
       "mean   191266.920025     84456.761617             79702.982693   \n",
       "std     83365.046865     96068.130787             90292.655099   \n",
       "min     10000.000000      5000.000000              5035.000000   \n",
       "25%    124531.500000      9300.000000              8835.000000   \n",
       "50%    216051.000000     63000.000000             59565.000000   \n",
       "75%    265586.000000    108600.000000            103402.000000   \n",
       "max    287234.000000    981600.000000            843315.000000   \n",
       "\n",
       "       purchase_channel  \n",
       "count     458166.000000  \n",
       "mean           1.715837  \n",
       "std            0.917242  \n",
       "min            1.000000  \n",
       "25%            1.000000  \n",
       "50%            2.000000  \n",
       "75%            2.000000  \n",
       "max            6.000000  "
      ]
     },
     "execution_count": 4,
     "metadata": {},
     "output_type": "execute_result"
    }
   ],
   "source": [
    "df.describe()"
   ]
  },
  {
   "cell_type": "code",
   "execution_count": 6,
   "id": "d4264cb5",
   "metadata": {},
   "outputs": [
    {
     "data": {
      "text/plain": [
       "customer_id                  int64\n",
       "product_id                  object\n",
       "purchase_date               object\n",
       "purchase_amount              int64\n",
       "redeem_coupon                 bool\n",
       "final_settlement_amount    float64\n",
       "payment_method              object\n",
       "purchase_channel           float64\n",
       "dtype: object"
      ]
     },
     "execution_count": 6,
     "metadata": {},
     "output_type": "execute_result"
    }
   ],
   "source": [
    "df.dtypes"
   ]
  },
  {
   "cell_type": "code",
   "execution_count": 7,
   "id": "ee21d90b",
   "metadata": {},
   "outputs": [
    {
     "data": {
      "text/plain": [
       "customer_id                 object\n",
       "product_id                  object\n",
       "purchase_date               object\n",
       "purchase_amount              int64\n",
       "redeem_coupon                 bool\n",
       "final_settlement_amount    float64\n",
       "payment_method              object\n",
       "purchase_channel           float64\n",
       "dtype: object"
      ]
     },
     "execution_count": 7,
     "metadata": {},
     "output_type": "execute_result"
    }
   ],
   "source": [
    "# pandasでデータ型を変換します\n",
    "df[\"customer_id\"] = df[\"customer_id\"].astype(\"object\")\n",
    "df.dtypes"
   ]
  },
  {
   "cell_type": "code",
   "execution_count": 8,
   "id": "5fd95b58",
   "metadata": {},
   "outputs": [
    {
     "data": {
      "text/html": [
       "<div>\n",
       "<style scoped>\n",
       "    .dataframe tbody tr th:only-of-type {\n",
       "        vertical-align: middle;\n",
       "    }\n",
       "\n",
       "    .dataframe tbody tr th {\n",
       "        vertical-align: top;\n",
       "    }\n",
       "\n",
       "    .dataframe thead th {\n",
       "        text-align: right;\n",
       "    }\n",
       "</style>\n",
       "<table border=\"1\" class=\"dataframe\">\n",
       "  <thead>\n",
       "    <tr style=\"text-align: right;\">\n",
       "      <th></th>\n",
       "      <th>customer_id</th>\n",
       "      <th>product_id</th>\n",
       "      <th>purchase_date</th>\n",
       "      <th>purchase_amount</th>\n",
       "      <th>redeem_coupon</th>\n",
       "      <th>final_settlement_amount</th>\n",
       "      <th>payment_method</th>\n",
       "      <th>purchase_channel</th>\n",
       "    </tr>\n",
       "  </thead>\n",
       "  <tbody>\n",
       "    <tr>\n",
       "      <th>0</th>\n",
       "      <td>00023085</td>\n",
       "      <td>G03257PD</td>\n",
       "      <td>2020/3/13</td>\n",
       "      <td>7200</td>\n",
       "      <td>True</td>\n",
       "      <td>6200.0</td>\n",
       "      <td>現金</td>\n",
       "      <td>2.0</td>\n",
       "    </tr>\n",
       "    <tr>\n",
       "      <th>1</th>\n",
       "      <td>00015469</td>\n",
       "      <td>CKZF21ZC</td>\n",
       "      <td>2023/3/29</td>\n",
       "      <td>15400</td>\n",
       "      <td>False</td>\n",
       "      <td>NaN</td>\n",
       "      <td>カード</td>\n",
       "      <td>2.0</td>\n",
       "    </tr>\n",
       "    <tr>\n",
       "      <th>2</th>\n",
       "      <td>00015482</td>\n",
       "      <td>7NSE0G0R</td>\n",
       "      <td>2023/12/26</td>\n",
       "      <td>15400</td>\n",
       "      <td>False</td>\n",
       "      <td>NaN</td>\n",
       "      <td>現金</td>\n",
       "      <td>1.0</td>\n",
       "    </tr>\n",
       "    <tr>\n",
       "      <th>3</th>\n",
       "      <td>00017107</td>\n",
       "      <td>WVCPYZBH</td>\n",
       "      <td>2021/2/19</td>\n",
       "      <td>17100</td>\n",
       "      <td>False</td>\n",
       "      <td>NaN</td>\n",
       "      <td>カード</td>\n",
       "      <td>2.0</td>\n",
       "    </tr>\n",
       "    <tr>\n",
       "      <th>4</th>\n",
       "      <td>00024156</td>\n",
       "      <td>OELTJ7E2</td>\n",
       "      <td>2020/10/8</td>\n",
       "      <td>24100</td>\n",
       "      <td>True</td>\n",
       "      <td>23100.0</td>\n",
       "      <td>カード</td>\n",
       "      <td>1.0</td>\n",
       "    </tr>\n",
       "  </tbody>\n",
       "</table>\n",
       "</div>"
      ],
      "text/plain": [
       "  customer_id product_id purchase_date  purchase_amount  redeem_coupon  \\\n",
       "0    00023085   G03257PD     2020/3/13             7200           True   \n",
       "1    00015469   CKZF21ZC     2023/3/29            15400          False   \n",
       "2    00015482   7NSE0G0R    2023/12/26            15400          False   \n",
       "3    00017107   WVCPYZBH     2021/2/19            17100          False   \n",
       "4    00024156   OELTJ7E2     2020/10/8            24100           True   \n",
       "\n",
       "   final_settlement_amount payment_method  purchase_channel  \n",
       "0                   6200.0             現金               2.0  \n",
       "1                      NaN            カード               2.0  \n",
       "2                      NaN             現金               1.0  \n",
       "3                      NaN            カード               2.0  \n",
       "4                  23100.0            カード               1.0  "
      ]
     },
     "execution_count": 8,
     "metadata": {},
     "output_type": "execute_result"
    }
   ],
   "source": [
    "# 今回用意しているデータセットのcustomer_idは、00000001といった、いわゆるゼロ埋めの連番を数値を使っています。\n",
    "# これを誤認識させないためには、取り込み時に「文字列として読み込む」ことが重要です。\n",
    "\n",
    "# csutomer_idを文字列として指定し取り込み\n",
    "df = pd.read_csv(\"../data/transaction_history.csv\", dtype={\"customer_id\": str})\n",
    "df.head()"
   ]
  },
  {
   "cell_type": "code",
   "execution_count": 9,
   "id": "e07e6720",
   "metadata": {},
   "outputs": [
    {
     "name": "stdout",
     "output_type": "stream",
     "text": [
      "平均 84456.76161748882\n"
     ]
    }
   ],
   "source": [
    "# 平均値の取得\n",
    "print(\"平均\", df[\"purchase_amount\"].mean())"
   ]
  },
  {
   "cell_type": "code",
   "execution_count": 10,
   "id": "061d3727",
   "metadata": {},
   "outputs": [
    {
     "name": "stdout",
     "output_type": "stream",
     "text": [
      "中央値 63000.0\n"
     ]
    }
   ],
   "source": [
    "# 中央値の取得\n",
    "print(\"中央値\", df[\"purchase_amount\"].median())"
   ]
  },
  {
   "cell_type": "code",
   "execution_count": 11,
   "id": "1dce8d6f",
   "metadata": {},
   "outputs": [
    {
     "name": "stdout",
     "output_type": "stream",
     "text": [
      "最頻値 0    150000\n",
      "Name: purchase_amount, dtype: int64\n"
     ]
    }
   ],
   "source": [
    "# 最頻値の取得\n",
    "print(\"最頻値\", df[\"purchase_amount\"].mode())"
   ]
  },
  {
   "cell_type": "code",
   "execution_count": 12,
   "id": "a617033c",
   "metadata": {},
   "outputs": [
    {
     "name": "stdout",
     "output_type": "stream",
     "text": [
      "合計 38695301100\n"
     ]
    }
   ],
   "source": [
    "# 合計の取得\n",
    "print(\"合計\", df[\"purchase_amount\"].sum())"
   ]
  },
  {
   "cell_type": "code",
   "execution_count": 13,
   "id": "a0dc630f",
   "metadata": {},
   "outputs": [
    {
     "name": "stdout",
     "output_type": "stream",
     "text": [
      "分散 9229085752.91564\n",
      "標準偏差 96068.13078703904\n"
     ]
    }
   ],
   "source": [
    "# 分散と標準偏差の取得\n",
    "print(\"分散\", df[\"purchase_amount\"].var(ddof=1))\n",
    "# 標準偏差\n",
    "print(\"標準偏差\", df[\"purchase_amount\"].std(ddof=1))"
   ]
  },
  {
   "cell_type": "code",
   "execution_count": 14,
   "id": "fcdfff31",
   "metadata": {},
   "outputs": [
    {
     "name": "stdout",
     "output_type": "stream",
     "text": [
      "最大 981600\n",
      "最小 5000\n"
     ]
    }
   ],
   "source": [
    "# 最大値と最小値の取得\n",
    "# 最大値\n",
    "print(\"最大\", df[\"purchase_amount\"].max())\n",
    "# 最小値\n",
    "print(\"最小\", df[\"purchase_amount\"].min())"
   ]
  },
  {
   "cell_type": "code",
   "execution_count": 15,
   "id": "b2982ec3",
   "metadata": {},
   "outputs": [
    {
     "name": "stdout",
     "output_type": "stream",
     "text": [
      "歪度 1.7914578693278291\n",
      "尖度 3.7371607019147914\n"
     ]
    }
   ],
   "source": [
    "# 歪度と尖度の取得\n",
    "# 歪度\n",
    "print(\"歪度\", df[\"purchase_amount\"].skew())\n",
    "# 尖度\n",
    "print(\"尖度\", df[\"purchase_amount\"].kurt())"
   ]
  },
  {
   "cell_type": "code",
   "execution_count": 16,
   "id": "9cf9080f",
   "metadata": {},
   "outputs": [
    {
     "data": {
      "text/plain": [
       "customer_id                        object\n",
       "product_id                         object\n",
       "purchase_date              datetime64[ns]\n",
       "purchase_amount                     int64\n",
       "redeem_coupon                        bool\n",
       "final_settlement_amount           float64\n",
       "payment_method                     object\n",
       "purchase_channel                  float64\n",
       "dtype: object"
      ]
     },
     "execution_count": 16,
     "metadata": {},
     "output_type": "execute_result"
    }
   ],
   "source": [
    "# purchase_dateのobject型をdatetime型に変換\n",
    "df[\"purchase_date\"] = pd.to_datetime(\n",
    "    df[\"purchase_date\"], format=\"%Y-%m-%d\", errors=\"coerce\"\n",
    ")\n",
    "df.dtypes"
   ]
  },
  {
   "cell_type": "code",
   "execution_count": 17,
   "id": "95ee2940",
   "metadata": {},
   "outputs": [
    {
     "name": "stdout",
     "output_type": "stream",
     "text": [
      "Collecting japanize-matplotlib\n",
      "  Downloading japanize-matplotlib-1.1.3.tar.gz (4.1 MB)\n",
      "\u001b[2K     \u001b[38;2;114;156;31m━━━━━━━━━━━━━━━━━━━━━━━━━━━━━━━━━━━━━━━━\u001b[0m \u001b[32m4.1/4.1 MB\u001b[0m \u001b[31m1.3 MB/s\u001b[0m eta \u001b[36m0:00:00\u001b[0m MB/s\u001b[0m eta \u001b[36m0:00:01\u001b[0m:01\u001b[0m\n",
      "\u001b[?25h  Preparing metadata (setup.py) ... \u001b[?25ldone\n",
      "\u001b[?25hRequirement already satisfied: matplotlib in /Users/maton/.pyenv/versions/3.10.13/lib/python3.10/site-packages (from japanize-matplotlib) (3.10.3)\n",
      "Requirement already satisfied: contourpy>=1.0.1 in /Users/maton/.pyenv/versions/3.10.13/lib/python3.10/site-packages (from matplotlib->japanize-matplotlib) (1.3.2)\n",
      "Requirement already satisfied: cycler>=0.10 in /Users/maton/.pyenv/versions/3.10.13/lib/python3.10/site-packages (from matplotlib->japanize-matplotlib) (0.12.1)\n",
      "Requirement already satisfied: fonttools>=4.22.0 in /Users/maton/.pyenv/versions/3.10.13/lib/python3.10/site-packages (from matplotlib->japanize-matplotlib) (4.58.4)\n",
      "Requirement already satisfied: kiwisolver>=1.3.1 in /Users/maton/.pyenv/versions/3.10.13/lib/python3.10/site-packages (from matplotlib->japanize-matplotlib) (1.4.8)\n",
      "Requirement already satisfied: numpy>=1.23 in /Users/maton/.pyenv/versions/3.10.13/lib/python3.10/site-packages (from matplotlib->japanize-matplotlib) (1.26.4)\n",
      "Requirement already satisfied: packaging>=20.0 in /Users/maton/.pyenv/versions/3.10.13/lib/python3.10/site-packages (from matplotlib->japanize-matplotlib) (24.2)\n",
      "Requirement already satisfied: pillow>=8 in /Users/maton/.pyenv/versions/3.10.13/lib/python3.10/site-packages (from matplotlib->japanize-matplotlib) (11.2.1)\n",
      "Requirement already satisfied: pyparsing>=2.3.1 in /Users/maton/.pyenv/versions/3.10.13/lib/python3.10/site-packages (from matplotlib->japanize-matplotlib) (3.2.3)\n",
      "Requirement already satisfied: python-dateutil>=2.7 in /Users/maton/.pyenv/versions/3.10.13/lib/python3.10/site-packages (from matplotlib->japanize-matplotlib) (2.9.0.post0)\n",
      "Requirement already satisfied: six>=1.5 in /Users/maton/.pyenv/versions/3.10.13/lib/python3.10/site-packages (from python-dateutil>=2.7->matplotlib->japanize-matplotlib) (1.17.0)\n",
      "Building wheels for collected packages: japanize-matplotlib\n",
      "\u001b[33m  DEPRECATION: Building 'japanize-matplotlib' using the legacy setup.py bdist_wheel mechanism, which will be removed in a future version. pip 25.3 will enforce this behaviour change. A possible replacement is to use the standardized build interface by setting the `--use-pep517` option, (possibly combined with `--no-build-isolation`), or adding a `pyproject.toml` file to the source tree of 'japanize-matplotlib'. Discussion can be found at https://github.com/pypa/pip/issues/6334\u001b[0m\u001b[33m\n",
      "\u001b[0m  Building wheel for japanize-matplotlib (setup.py) ... \u001b[?25ldone\n",
      "\u001b[?25h  Created wheel for japanize-matplotlib: filename=japanize_matplotlib-1.1.3-py3-none-any.whl size=4120257 sha256=a9330880119c88c9f7cf5d8731dc04d80bb777a8e20f0d0c2bf3b089a091db78\n",
      "  Stored in directory: /Users/maton/Library/Caches/pip/wheels/61/7a/6b/df1f79be9c59862525070e157e62b08eab8ece27c1b68fbb94\n",
      "Successfully built japanize-matplotlib\n",
      "Installing collected packages: japanize-matplotlib\n",
      "Successfully installed japanize-matplotlib-1.1.3\n",
      "\n",
      "\u001b[1m[\u001b[0m\u001b[34;49mnotice\u001b[0m\u001b[1;39;49m]\u001b[0m\u001b[39;49m A new release of pip is available: \u001b[0m\u001b[31;49m25.1.1\u001b[0m\u001b[39;49m -> \u001b[0m\u001b[32;49m25.2\u001b[0m\n",
      "\u001b[1m[\u001b[0m\u001b[34;49mnotice\u001b[0m\u001b[1;39;49m]\u001b[0m\u001b[39;49m To update, run: \u001b[0m\u001b[32;49mpip install --upgrade pip\u001b[0m\n"
     ]
    }
   ],
   "source": [
    "#ヒストグラムの描画に必要なライブラリをインポートします。\n",
    "!pip install japanize-matplotlib\n",
    "import matplotlib.pyplot as plt\n",
    "import japanize_matplotlib\n",
    "%matplotlib inline"
   ]
  },
  {
   "cell_type": "code",
   "execution_count": 18,
   "id": "71472d01",
   "metadata": {},
   "outputs": [
    {
     "data": {
      "image/png": "[encoded data removed]",
      "text/plain": [
       "<Figure size 640x480 with 1 Axes>"
      ]
     },
     "metadata": {},
     "output_type": "display_data"
    }
   ],
   "source": [
    "# ヒストグラムの描画\n",
    "plt.hist(x=df[\"purchase_amount\"], bins=10)  # bins:階級の数\n",
    "plt.show()"
   ]
  },
  {
   "cell_type": "code",
   "execution_count": 19,
   "id": "f1b1a833",
   "metadata": {},
   "outputs": [
    {
     "data": {
      "image/png": "[encoded data removed]",
      "text/plain": [
       "<Figure size 640x480 with 1 Axes>"
      ]
     },
     "metadata": {},
     "output_type": "display_data"
    }
   ],
   "source": [
    "# ビンの幅を指定してみましょう。\n",
    "bins = [\n",
    "    10000,\n",
    "    20000,\n",
    "    30000,\n",
    "    30000,\n",
    "    40000,\n",
    "    50000,\n",
    "    60000,\n",
    "    70000,\n",
    "    80000,\n",
    "    90000,\n",
    "    100000,\n",
    "    110000,\n",
    "    120000,\n",
    "    130000,\n",
    "    140000,\n",
    "    150000,\n",
    "    160000,\n",
    "    170000,\n",
    "    180000,\n",
    "    190000,\n",
    "    200000,\n",
    "]\n",
    "plt.hist(x=df[\"purchase_amount\"], bins=bins)\n",
    "plt.show()"
   ]
  },
  {
   "cell_type": "code",
   "execution_count": 20,
   "id": "37cb1ac3",
   "metadata": {},
   "outputs": [
    {
     "name": "stdout",
     "output_type": "stream",
     "text": [
      "3シグマルールによる外れ値の件数: 8105\n",
      "外れ値のデータ:\n"
     ]
    },
    {
     "data": {
      "text/html": [
       "<div>\n",
       "<style scoped>\n",
       "    .dataframe tbody tr th:only-of-type {\n",
       "        vertical-align: middle;\n",
       "    }\n",
       "\n",
       "    .dataframe tbody tr th {\n",
       "        vertical-align: top;\n",
       "    }\n",
       "\n",
       "    .dataframe thead th {\n",
       "        text-align: right;\n",
       "    }\n",
       "</style>\n",
       "<table border=\"1\" class=\"dataframe\">\n",
       "  <thead>\n",
       "    <tr style=\"text-align: right;\">\n",
       "      <th></th>\n",
       "      <th>customer_id</th>\n",
       "      <th>product_id</th>\n",
       "      <th>purchase_date</th>\n",
       "      <th>purchase_amount</th>\n",
       "      <th>redeem_coupon</th>\n",
       "      <th>final_settlement_amount</th>\n",
       "      <th>payment_method</th>\n",
       "      <th>purchase_channel</th>\n",
       "    </tr>\n",
       "  </thead>\n",
       "  <tbody>\n",
       "    <tr>\n",
       "      <th>49</th>\n",
       "      <td>00010044</td>\n",
       "      <td>WFX6UYXX</td>\n",
       "      <td>NaT</td>\n",
       "      <td>408700</td>\n",
       "      <td>False</td>\n",
       "      <td>NaN</td>\n",
       "      <td>電子マネー</td>\n",
       "      <td>2.0</td>\n",
       "    </tr>\n",
       "    <tr>\n",
       "      <th>183</th>\n",
       "      <td>00010178</td>\n",
       "      <td>0JALBJS2</td>\n",
       "      <td>NaT</td>\n",
       "      <td>431300</td>\n",
       "      <td>False</td>\n",
       "      <td>NaN</td>\n",
       "      <td>コード決済</td>\n",
       "      <td>1.0</td>\n",
       "    </tr>\n",
       "    <tr>\n",
       "      <th>216</th>\n",
       "      <td>00010211</td>\n",
       "      <td>NF4GVAFA</td>\n",
       "      <td>NaT</td>\n",
       "      <td>427500</td>\n",
       "      <td>False</td>\n",
       "      <td>NaN</td>\n",
       "      <td>現金</td>\n",
       "      <td>1.0</td>\n",
       "    </tr>\n",
       "    <tr>\n",
       "      <th>235</th>\n",
       "      <td>00010230</td>\n",
       "      <td>38V3AJIU</td>\n",
       "      <td>NaT</td>\n",
       "      <td>385500</td>\n",
       "      <td>False</td>\n",
       "      <td>NaN</td>\n",
       "      <td>現金</td>\n",
       "      <td>5.0</td>\n",
       "    </tr>\n",
       "    <tr>\n",
       "      <th>249</th>\n",
       "      <td>00010244</td>\n",
       "      <td>UZM3TDTF</td>\n",
       "      <td>NaT</td>\n",
       "      <td>399400</td>\n",
       "      <td>False</td>\n",
       "      <td>NaN</td>\n",
       "      <td>現金</td>\n",
       "      <td>4.0</td>\n",
       "    </tr>\n",
       "  </tbody>\n",
       "</table>\n",
       "</div>"
      ],
      "text/plain": [
       "    customer_id product_id purchase_date  purchase_amount  redeem_coupon  \\\n",
       "49     00010044   WFX6UYXX           NaT           408700          False   \n",
       "183    00010178   0JALBJS2           NaT           431300          False   \n",
       "216    00010211   NF4GVAFA           NaT           427500          False   \n",
       "235    00010230   38V3AJIU           NaT           385500          False   \n",
       "249    00010244   UZM3TDTF           NaT           399400          False   \n",
       "\n",
       "     final_settlement_amount payment_method  purchase_channel  \n",
       "49                       NaN          電子マネー               2.0  \n",
       "183                      NaN          コード決済               1.0  \n",
       "216                      NaN             現金               1.0  \n",
       "235                      NaN             現金               5.0  \n",
       "249                      NaN             現金               4.0  "
      ]
     },
     "execution_count": 20,
     "metadata": {},
     "output_type": "execute_result"
    }
   ],
   "source": [
    "# 3シグマルールでの外れ値検出\n",
    "mean_purchase = df[\"purchase_amount\"].mean()  # 平均値\n",
    "std_purchase = df[\"purchase_amount\"].std()  # 標準偏差\n",
    "\n",
    "# ±3シグマ範囲を計算\n",
    "lower_limit = mean_purchase - 3 * std_purchase\n",
    "upper_limit = mean_purchase + 3 * std_purchase\n",
    "\n",
    "# 外れ値の抽出\n",
    "outliers_sigma = df[\n",
    "    (df[\"purchase_amount\"] < lower_limit) | (df[\"purchase_amount\"] > upper_limit)\n",
    "]\n",
    "\n",
    "# 外れ値の件数を表示\n",
    "print(f\"3シグマルールによる外れ値の件数: {len(outliers_sigma)}\")\n",
    "print(\"外れ値のデータ:\")\n",
    "outliers_sigma.head()"
   ]
  },
  {
   "cell_type": "code",
   "execution_count": 21,
   "id": "c40655ca",
   "metadata": {},
   "outputs": [
    {
     "data": {
      "image/png": "[encoded data removed]",
      "text/plain": [
       "<Figure size 600x400 with 1 Axes>"
      ]
     },
     "metadata": {},
     "output_type": "display_data"
    }
   ],
   "source": [
    "# dfのpurchase_amountの箱ひげ図を描画\n",
    "plt.figure(figsize=(6, 4))\n",
    "df.boxplot(column=\"purchase_amount\")\n",
    "plt.title(\"Boxplot of Purchase Amount\")\n",
    "plt.ylabel(\"Amount\")\n",
    "plt.grid(True)\n",
    "plt.show()"
   ]
  },
  {
   "cell_type": "code",
   "execution_count": 22,
   "id": "4d473b2b",
   "metadata": {},
   "outputs": [],
   "source": [
    "# 外れ値の検出（IQRルール）\n",
    "q1 = df[\"purchase_amount\"].quantile(0.25)\n",
    "q3 = df[\"purchase_amount\"].quantile(0.75)\n",
    "iqr = q3 - q1\n",
    "\n",
    "lower_bound = q1 - 1.5 * iqr\n",
    "upper_bound = q3 + 1.5 * iqr"
   ]
  },
  {
   "cell_type": "code",
   "execution_count": 23,
   "id": "ce5ac0df",
   "metadata": {},
   "outputs": [
    {
     "data": {
      "text/html": [
       "<div>\n",
       "<style scoped>\n",
       "    .dataframe tbody tr th:only-of-type {\n",
       "        vertical-align: middle;\n",
       "    }\n",
       "\n",
       "    .dataframe tbody tr th {\n",
       "        vertical-align: top;\n",
       "    }\n",
       "\n",
       "    .dataframe thead th {\n",
       "        text-align: right;\n",
       "    }\n",
       "</style>\n",
       "<table border=\"1\" class=\"dataframe\">\n",
       "  <thead>\n",
       "    <tr style=\"text-align: right;\">\n",
       "      <th></th>\n",
       "      <th>customer_id</th>\n",
       "      <th>product_id</th>\n",
       "      <th>purchase_date</th>\n",
       "      <th>purchase_amount</th>\n",
       "      <th>redeem_coupon</th>\n",
       "      <th>final_settlement_amount</th>\n",
       "      <th>payment_method</th>\n",
       "      <th>purchase_channel</th>\n",
       "    </tr>\n",
       "  </thead>\n",
       "  <tbody>\n",
       "    <tr>\n",
       "      <th>21</th>\n",
       "      <td>00010016</td>\n",
       "      <td>MQTY8P6S</td>\n",
       "      <td>NaT</td>\n",
       "      <td>286100</td>\n",
       "      <td>False</td>\n",
       "      <td>NaN</td>\n",
       "      <td>現金</td>\n",
       "      <td>2.0</td>\n",
       "    </tr>\n",
       "    <tr>\n",
       "      <th>24</th>\n",
       "      <td>00010019</td>\n",
       "      <td>N3R4MUJZ</td>\n",
       "      <td>NaT</td>\n",
       "      <td>348100</td>\n",
       "      <td>False</td>\n",
       "      <td>NaN</td>\n",
       "      <td>カード</td>\n",
       "      <td>1.0</td>\n",
       "    </tr>\n",
       "    <tr>\n",
       "      <th>49</th>\n",
       "      <td>00010044</td>\n",
       "      <td>WFX6UYXX</td>\n",
       "      <td>NaT</td>\n",
       "      <td>408700</td>\n",
       "      <td>False</td>\n",
       "      <td>NaN</td>\n",
       "      <td>電子マネー</td>\n",
       "      <td>2.0</td>\n",
       "    </tr>\n",
       "    <tr>\n",
       "      <th>61</th>\n",
       "      <td>00010056</td>\n",
       "      <td>22KUXMYI</td>\n",
       "      <td>NaT</td>\n",
       "      <td>288600</td>\n",
       "      <td>False</td>\n",
       "      <td>NaN</td>\n",
       "      <td>カード</td>\n",
       "      <td>1.0</td>\n",
       "    </tr>\n",
       "    <tr>\n",
       "      <th>62</th>\n",
       "      <td>00010057</td>\n",
       "      <td>3VTRPCMJ</td>\n",
       "      <td>NaT</td>\n",
       "      <td>278700</td>\n",
       "      <td>False</td>\n",
       "      <td>NaN</td>\n",
       "      <td>カード</td>\n",
       "      <td>2.0</td>\n",
       "    </tr>\n",
       "    <tr>\n",
       "      <th>...</th>\n",
       "      <td>...</td>\n",
       "      <td>...</td>\n",
       "      <td>...</td>\n",
       "      <td>...</td>\n",
       "      <td>...</td>\n",
       "      <td>...</td>\n",
       "      <td>...</td>\n",
       "      <td>...</td>\n",
       "    </tr>\n",
       "    <tr>\n",
       "      <th>458108</th>\n",
       "      <td>00287181</td>\n",
       "      <td>B5PAWT1T</td>\n",
       "      <td>NaT</td>\n",
       "      <td>339800</td>\n",
       "      <td>False</td>\n",
       "      <td>NaN</td>\n",
       "      <td>コード決済</td>\n",
       "      <td>2.0</td>\n",
       "    </tr>\n",
       "    <tr>\n",
       "      <th>458121</th>\n",
       "      <td>00287194</td>\n",
       "      <td>WRH06AKB</td>\n",
       "      <td>NaT</td>\n",
       "      <td>300000</td>\n",
       "      <td>False</td>\n",
       "      <td>NaN</td>\n",
       "      <td>現金</td>\n",
       "      <td>1.0</td>\n",
       "    </tr>\n",
       "    <tr>\n",
       "      <th>458125</th>\n",
       "      <td>00287198</td>\n",
       "      <td>E6SBIX29</td>\n",
       "      <td>NaT</td>\n",
       "      <td>411400</td>\n",
       "      <td>False</td>\n",
       "      <td>NaN</td>\n",
       "      <td>電子マネー</td>\n",
       "      <td>2.0</td>\n",
       "    </tr>\n",
       "    <tr>\n",
       "      <th>458126</th>\n",
       "      <td>00287199</td>\n",
       "      <td>E6SBIX29</td>\n",
       "      <td>NaT</td>\n",
       "      <td>402900</td>\n",
       "      <td>False</td>\n",
       "      <td>NaN</td>\n",
       "      <td>電子マネー</td>\n",
       "      <td>2.0</td>\n",
       "    </tr>\n",
       "    <tr>\n",
       "      <th>458140</th>\n",
       "      <td>00287213</td>\n",
       "      <td>3CHOSI5Z</td>\n",
       "      <td>NaT</td>\n",
       "      <td>264800</td>\n",
       "      <td>False</td>\n",
       "      <td>NaN</td>\n",
       "      <td>現金</td>\n",
       "      <td>2.0</td>\n",
       "    </tr>\n",
       "  </tbody>\n",
       "</table>\n",
       "<p>31547 rows × 8 columns</p>\n",
       "</div>"
      ],
      "text/plain": [
       "       customer_id product_id purchase_date  purchase_amount  redeem_coupon  \\\n",
       "21        00010016   MQTY8P6S           NaT           286100          False   \n",
       "24        00010019   N3R4MUJZ           NaT           348100          False   \n",
       "49        00010044   WFX6UYXX           NaT           408700          False   \n",
       "61        00010056   22KUXMYI           NaT           288600          False   \n",
       "62        00010057   3VTRPCMJ           NaT           278700          False   \n",
       "...            ...        ...           ...              ...            ...   \n",
       "458108    00287181   B5PAWT1T           NaT           339800          False   \n",
       "458121    00287194   WRH06AKB           NaT           300000          False   \n",
       "458125    00287198   E6SBIX29           NaT           411400          False   \n",
       "458126    00287199   E6SBIX29           NaT           402900          False   \n",
       "458140    00287213   3CHOSI5Z           NaT           264800          False   \n",
       "\n",
       "        final_settlement_amount payment_method  purchase_channel  \n",
       "21                          NaN             現金               2.0  \n",
       "24                          NaN            カード               1.0  \n",
       "49                          NaN          電子マネー               2.0  \n",
       "61                          NaN            カード               1.0  \n",
       "62                          NaN            カード               2.0  \n",
       "...                         ...            ...               ...  \n",
       "458108                      NaN          コード決済               2.0  \n",
       "458121                      NaN             現金               1.0  \n",
       "458125                      NaN          電子マネー               2.0  \n",
       "458126                      NaN          電子マネー               2.0  \n",
       "458140                      NaN             現金               2.0  \n",
       "\n",
       "[31547 rows x 8 columns]"
      ]
     },
     "execution_count": 23,
     "metadata": {},
     "output_type": "execute_result"
    }
   ],
   "source": [
    "# 外れ値の行を抽出\n",
    "outliers = df[\n",
    "    (df[\"purchase_amount\"] < lower_bound) | (df[\"purchase_amount\"] > upper_bound)\n",
    "]\n",
    "outliers"
   ]
  }
 ],
 "metadata": {
  "kernelspec": {
   "display_name": "3.10.13",
   "language": "python",
   "name": "python3"
  },
  "language_info": {
   "codemirror_mode": {
    "name": "ipython",
    "version": 3
   },
   "file_extension": ".py",
   "mimetype": "text/x-python",
   "name": "python",
   "nbconvert_exporter": "python",
   "pygments_lexer": "ipython3",
   "version": "3.10.13"
  }
 },
 "nbformat": 4,
 "nbformat_minor": 5
}
